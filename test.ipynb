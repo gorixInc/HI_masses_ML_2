{
 "cells": [
  {
   "cell_type": "code",
   "execution_count": 1,
   "metadata": {
    "collapsed": true
   },
   "outputs": [],
   "source": [
    "import numpy as np\n",
    "import pandas as pd\n",
    "\n",
    "from training_env import TrainingEnv\n",
    "from custom_model import Model, Dense, Dropout\n",
    "import tensorflow as tf"
   ]
  },
  {
   "cell_type": "code",
   "execution_count": 2,
   "outputs": [
    {
     "name": "stdout",
     "output_type": "stream",
     "text": [
      "Epoch: 500; Loss: 0.04580581188201904\n",
      "Epoch: 1000; Loss: 0.04994573816657066\n",
      "Epoch: 1500; Loss: 0.053740132600069046\n",
      "Epoch: 2000; Loss: 0.04058418795466423\n",
      "Epoch: 2500; Loss: 0.04247785732150078\n",
      "Epoch: 500; Loss: 0.043888818472623825\n",
      "Epoch: 1000; Loss: 0.042004723101854324\n",
      "Epoch: 1500; Loss: 0.03834043815732002\n",
      "Epoch: 2000; Loss: 0.05882207676768303\n",
      "Epoch: 2500; Loss: 0.05742615461349487\n",
      "Epoch: 500; Loss: 0.05016712099313736\n",
      "Epoch: 1000; Loss: 0.04477711766958237\n",
      "Epoch: 1500; Loss: 0.04149805009365082\n",
      "Epoch: 2000; Loss: 0.042375992983579636\n",
      "Epoch: 2500; Loss: 0.04620986431837082\n",
      "Epoch: 500; Loss: 0.04433520510792732\n",
      "Epoch: 1000; Loss: 0.03556061536073685\n",
      "Epoch: 1500; Loss: 0.04323834925889969\n",
      "Epoch: 2000; Loss: 0.04237769916653633\n",
      "Epoch: 2500; Loss: 0.04265277832746506\n",
      "Epoch: 500; Loss: 0.04109273850917816\n",
      "Epoch: 1000; Loss: 0.04398268088698387\n",
      "Epoch: 1500; Loss: 0.03822239488363266\n",
      "Epoch: 2000; Loss: 0.044377706944942474\n",
      "Epoch: 2500; Loss: 0.04182770103216171\n",
      "Epoch: 500; Loss: 0.04849512130022049\n",
      "Epoch: 1000; Loss: 0.056215785443782806\n",
      "Epoch: 1500; Loss: 0.05206846073269844\n",
      "Epoch: 2000; Loss: 0.05445215106010437\n",
      "Epoch: 2500; Loss: 0.03142521157860756\n",
      "Epoch: 500; Loss: 0.04724855348467827\n",
      "Epoch: 1000; Loss: 0.052389323711395264\n",
      "Epoch: 1500; Loss: 0.05872426554560661\n",
      "Epoch: 2000; Loss: 0.04378032684326172\n",
      "Epoch: 2500; Loss: 0.040751926600933075\n",
      "Epoch: 500; Loss: 0.0433221161365509\n",
      "Epoch: 1000; Loss: 0.05016380548477173\n",
      "Epoch: 1500; Loss: 0.04462392255663872\n",
      "Epoch: 2000; Loss: 0.05041465163230896\n",
      "Epoch: 2500; Loss: 0.04864909499883652\n",
      "Epoch: 500; Loss: 0.04078904911875725\n",
      "Epoch: 1000; Loss: 0.05290529876947403\n",
      "Epoch: 1500; Loss: 0.04431723430752754\n",
      "Epoch: 2000; Loss: 0.04633346572518349\n",
      "Epoch: 2500; Loss: 0.0342366024851799\n",
      "Epoch: 500; Loss: 0.04504602402448654\n",
      "Epoch: 1000; Loss: 0.04944830387830734\n",
      "Epoch: 1500; Loss: 0.05249258875846863\n",
      "Epoch: 2000; Loss: 0.045465897768735886\n",
      "Epoch: 2500; Loss: 0.04157983139157295\n",
      "Epoch: 500; Loss: 0.6531616449356079\n",
      "Epoch: 1000; Loss: 0.3453289866447449\n",
      "Epoch: 1500; Loss: 0.11942174285650253\n",
      "Epoch: 2000; Loss: 0.07623203843832016\n",
      "Epoch: 2500; Loss: 0.06274481117725372\n",
      "Epoch: 500; Loss: 0.6241964101791382\n",
      "Epoch: 1000; Loss: 0.3958372473716736\n",
      "Epoch: 1500; Loss: 0.10355855524539948\n",
      "Epoch: 2000; Loss: 0.06768786907196045\n",
      "Epoch: 2500; Loss: 0.06114708632230759\n",
      "Epoch: 500; Loss: 0.6242654919624329\n",
      "Epoch: 1000; Loss: 0.3449029326438904\n",
      "Epoch: 1500; Loss: 0.11791753768920898\n",
      "Epoch: 2000; Loss: 0.07732890546321869\n",
      "Epoch: 2500; Loss: 0.058414530009031296\n",
      "Epoch: 500; Loss: 0.6669720411300659\n",
      "Epoch: 1000; Loss: 0.29690712690353394\n",
      "Epoch: 1500; Loss: 0.12246622890233994\n",
      "Epoch: 2000; Loss: 0.06326659023761749\n",
      "Epoch: 2500; Loss: 0.05943338945508003\n",
      "Epoch: 500; Loss: 0.5627847909927368\n",
      "Epoch: 1000; Loss: 0.3322480320930481\n",
      "Epoch: 1500; Loss: 0.11143697798252106\n",
      "Epoch: 2000; Loss: 0.061596840620040894\n",
      "Epoch: 2500; Loss: 0.06325218826532364\n",
      "Epoch: 500; Loss: 0.6084237694740295\n",
      "Epoch: 1000; Loss: 0.37639912962913513\n",
      "Epoch: 1500; Loss: 0.1239791139960289\n",
      "Epoch: 2000; Loss: 0.07674296945333481\n",
      "Epoch: 2500; Loss: 0.06261958181858063\n",
      "Epoch: 500; Loss: 0.6816017627716064\n",
      "Epoch: 1000; Loss: 0.3235863447189331\n",
      "Epoch: 1500; Loss: 0.10188188403844833\n",
      "Epoch: 2000; Loss: 0.05412369966506958\n",
      "Epoch: 2500; Loss: 0.05950614809989929\n",
      "Epoch: 500; Loss: 0.6551014184951782\n",
      "Epoch: 1000; Loss: 0.35931316018104553\n",
      "Epoch: 1500; Loss: 0.11004103720188141\n",
      "Epoch: 2000; Loss: 0.07432855665683746\n",
      "Epoch: 2500; Loss: 0.054461944848299026\n",
      "Epoch: 500; Loss: 0.5968950390815735\n",
      "Epoch: 1000; Loss: 0.31576651334762573\n",
      "Epoch: 1500; Loss: 0.11668775975704193\n",
      "Epoch: 2000; Loss: 0.06026986986398697\n",
      "Epoch: 2500; Loss: 0.04689042642712593\n",
      "Epoch: 500; Loss: 0.6741659641265869\n",
      "Epoch: 1000; Loss: 0.3762552738189697\n",
      "Epoch: 1500; Loss: 0.11040879786014557\n",
      "Epoch: 2000; Loss: 0.07068987190723419\n",
      "Epoch: 2500; Loss: 0.05215073376893997\n"
     ]
    }
   ],
   "source": [
    "model1 = Model(123,layers=[\n",
    "                Dense(16, tf.nn.sigmoid),\n",
    "                Dropout(0.2),\n",
    "                Dense(16, tf.nn.sigmoid),\n",
    "                Dropout(0.2),\n",
    "                Dense(16, tf.nn.sigmoid),\n",
    "                Dropout(0.2),\n",
    "                Dense(1)])\n",
    "\n",
    "model2 = Model(layers=[\n",
    "                Dense(16, tf.nn.sigmoid),\n",
    "                Dense(16, tf.nn.sigmoid),\n",
    "                Dense(16, tf.nn.sigmoid),\n",
    "                Dense(1)])\n",
    "\n",
    "\n",
    "models = [model2]\n",
    "env = TrainingEnv(models, [2500,2500],[tf.optimizers.Adam, tf.optimizers.SGD], [0.01, 0.01], [16, 16], 10,\n",
    "                  'data/arecibo_df.csv','results/zeroes', 123)\n",
    "env.run()"
   ],
   "metadata": {
    "collapsed": false,
    "pycharm": {
     "name": "#%%\n"
    }
   }
  },
  {
   "cell_type": "code",
   "execution_count": 3,
   "outputs": [],
   "source": [
    "df = pd.read_csv('results/first_test.csv', index_col=[0])\n",
    "writer = pd.ExcelWriter('results/first_test.xlsx')\n",
    "df.to_excel(writer)\n",
    "writer.close()"
   ],
   "metadata": {
    "collapsed": false,
    "pycharm": {
     "name": "#%%\n"
    }
   }
  },
  {
   "cell_type": "code",
   "execution_count": 3,
   "outputs": [],
   "source": [],
   "metadata": {
    "collapsed": false,
    "pycharm": {
     "name": "#%%\n"
    }
   }
  }
 ],
 "metadata": {
  "kernelspec": {
   "display_name": "Python 3",
   "language": "python",
   "name": "python3"
  },
  "language_info": {
   "codemirror_mode": {
    "name": "ipython",
    "version": 2
   },
   "file_extension": ".py",
   "mimetype": "text/x-python",
   "name": "python",
   "nbconvert_exporter": "python",
   "pygments_lexer": "ipython2",
   "version": "2.7.6"
  }
 },
 "nbformat": 4,
 "nbformat_minor": 0
}